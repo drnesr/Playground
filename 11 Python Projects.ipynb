{
 "cells": [
  {
   "cell_type": "markdown",
   "metadata": {},
   "source": [
    "# 11 Python Projects Junior Developers Can Build for Coding Practice\n",
    "\n",
    "***Endy Austin***\n",
    "\n",
    "The original post is [here](https://www.freecodecamp.org/news/python-projects-junior-developers/)"
   ]
  },
  {
   "cell_type": "markdown",
   "metadata": {},
   "source": []
  },
  {
   "cell_type": "markdown",
   "metadata": {},
   "source": [
    "## How to use these projects\n",
    "- First, read through the instructions and make sure you understand what you've read. Try to say what you read in your own words.\n",
    "- Attempt to solve it on your own without going through the YouTube tutorial or example code on Github. You'll most likely struggle. That's fine. Push yourself. This is the idea of deliberate practice from Behavioral Psychology.\n",
    "- If you haven't made any progress at all, watch the YouTube tutorial where available then look through the example code. You can also search online to see more example tutorials and Python code for the same problem.\n",
    "- After going through, go back and try to write the code by yourself without looking at the tutorial. Again, push yourself. This is grit also from Behavioral Psychology. You need it.\n",
    "- Whatever you do, do not blindly copy out the code in the tutorial, then pat yourself on the back. You may finish quickly but the reality is you haven't learned anything.\n",
    "- If you feel you're completely stuck after lots of attempts, take a break. When you step away, we know from Neuroscience research that your subconscious will continue the learning. This is because your mind has shifted from focused mode to diffused mode.\n",
    "- Whenever you solve something, celebrate it! You need the positive reinforcement to build internal references that you did it. In the future when your mind whispers “you can't do it” during a moment of doubt, you'll reply “that's not true, here's proof of what I did in the past so I can do this too”.\n",
    "- Repeat, repeat, repeat."
   ]
  },
  {
   "cell_type": "markdown",
   "metadata": {},
   "source": [
    "## Projects for junior Python developers\n",
    "Here are some beginner-friendly projects for you to work on:\n",
    "\n",
    "1. Odd or even\n",
    "1. Mad Libs Game\n",
    "1. Word Count\n",
    "1. Biography info\n",
    "1. What's my acronym?\n",
    "1. Rock, Paper, Scissors\n",
    "1. Guess the number\n",
    "1. Is a palindrome\n",
    "1. Calculate the tip\n",
    "1. Email slicer\n",
    "1. Lyrics generator"
   ]
  },
  {
   "cell_type": "markdown",
   "metadata": {},
   "source": [
    "### Odd or even\n",
    "Welcome a user then ask them for a number between 1 and 1000.\n",
    "\n",
    "When the user gives you the number, you check if it's odd or even and then you print a message letting them know.\n",
    "\n",
    "Example:\n",
    "\n",
    "Prompt: `What number are you thinking?`\n",
    "\n",
    "Input: `25`\n",
    "\n",
    "Output: `That's an odd number! Have another?`  "
   ]
  },
  {
   "cell_type": "code",
   "execution_count": 5,
   "metadata": {
    "ExecuteTime": {
     "end_time": "2021-02-10T21:20:22.258466Z",
     "start_time": "2021-02-10T21:20:22.238519Z"
    }
   },
   "outputs": [],
   "source": [
    "def odd_or_even(limit=1000):\n",
    "    x = int(input (\"What number are you thinking? \"))\n",
    "    if x % 2 == 0:\n",
    "        print(\"That's an EVEN number!\")\n",
    "    else: \n",
    "        print(\"That's an ODD number!\")\n",
    "    response = input(\"To play again press 'Y', other key to quit \")\n",
    "    if response.lower()=='y':\n",
    "        odd_or_even(limit)\n",
    "    else:\n",
    "        print ('\\nThank you for playing, \\n\\n\\tGood bye!')\n",
    "        "
   ]
  },
  {
   "cell_type": "code",
   "execution_count": 6,
   "metadata": {
    "ExecuteTime": {
     "end_time": "2021-02-10T21:20:43.783436Z",
     "start_time": "2021-02-10T21:20:24.807573Z"
    }
   },
   "outputs": [
    {
     "name": "stdout",
     "output_type": "stream",
     "text": [
      "What number are you thinking?25\n",
      "That's an ODD number!\n",
      "To play again press 'Y', other key to quity\n",
      "What number are you thinking?48\n",
      "That's an EVEN number!\n",
      "To play again press 'Y', other key to quit\n",
      "\n",
      "Thank you for playing, \n",
      "\n",
      "\tGood bye!\n"
     ]
    }
   ],
   "source": [
    "odd_or_even()"
   ]
  },
  {
   "cell_type": "markdown",
   "metadata": {},
   "source": [
    "### Mad libs game\n",
    "Ask the user for an input.\n",
    "\n",
    "This could be anything such as a name, an adjective, a pronoun or even an action. Once you get the input, you can rearrange it to build up your own story.\n",
    "\n",
    "Here's a [youtube tutorial](https://www.youtube.com/watch?v=u7g9mRzQLYE) on mad libs in Python.\n",
    "And example code on Github."
   ]
  },
  {
   "cell_type": "code",
   "execution_count": 14,
   "metadata": {
    "ExecuteTime": {
     "end_time": "2021-02-10T21:31:01.911919Z",
     "start_time": "2021-02-10T21:31:01.895933Z"
    }
   },
   "outputs": [],
   "source": [
    "def mad_libs():\n",
    "    color = input(\"Please input a color: \")\n",
    "    noun = input(\"please input a noun: \")\n",
    "    adjective = input(\"Please enter an adjective: \")\n",
    "    print(\"Thank you!\\n\")\n",
    "    print(\n",
    "        f\"Believe it of not!, The {adjective.lower()} {noun.lower()} \"\n",
    "        f\"is {color.lower()}\"\n",
    "    )"
   ]
  },
  {
   "cell_type": "code",
   "execution_count": 15,
   "metadata": {
    "ExecuteTime": {
     "end_time": "2021-02-10T21:31:15.424105Z",
     "start_time": "2021-02-10T21:31:02.819106Z"
    }
   },
   "outputs": [
    {
     "name": "stdout",
     "output_type": "stream",
     "text": [
      "Please input a color: Yellow\n",
      "please input a noun: Cat\n",
      "Please enter an adjective: Brave\n",
      "Thank you!\n",
      "\n",
      "Believe it of not!, The brave cat is yellow\n"
     ]
    }
   ],
   "source": [
    "mad_libs()"
   ]
  },
  {
   "cell_type": "markdown",
   "metadata": {},
   "source": [
    "### Word count\n",
    "Ask the user what's on their mind. Then after the user responds, count the number of words in the sentence and print that as an output.\n",
    "\n",
    "Example:\n",
    "\n",
    "Prompt: what's on your mind today?\n",
    "\n",
    "Input: well, it's just a day for me to be an expert in coding\n",
    "\n",
    "Output: oh nice, you just told me what's on your mind in 13 words!\n",
    "\n",
    "To take this a step further, open a file that is handed to you, count the number of words in there, then print it out.\n",
    "\n",
    "Here's some example code on Github."
   ]
  },
  {
   "cell_type": "code",
   "execution_count": 18,
   "metadata": {
    "ExecuteTime": {
     "end_time": "2021-02-10T21:37:05.374132Z",
     "start_time": "2021-02-10T21:37:05.368149Z"
    }
   },
   "outputs": [],
   "source": [
    "def word_count():\n",
    "    words = input(\"What's on your mind today? \")\n",
    "    w_count = len(words.split(\" \"))\n",
    "    # I am not so hungry, but no problem to eat something :-)\n",
    "    print(f\"Oh! nice, you just told me what's on your mind in {w_count} words!\")"
   ]
  },
  {
   "cell_type": "code",
   "execution_count": 19,
   "metadata": {
    "ExecuteTime": {
     "end_time": "2021-02-10T21:37:20.023768Z",
     "start_time": "2021-02-10T21:37:05.956114Z"
    }
   },
   "outputs": [
    {
     "name": "stdout",
     "output_type": "stream",
     "text": [
      "What's on your mind today? I am not so hungry, but no problem to eat something :-)\n",
      "Oh! nice, you just told me what's on your mind in 12 words!\n"
     ]
    }
   ],
   "source": [
    "word_count()"
   ]
  },
  {
   "cell_type": "markdown",
   "metadata": {},
   "source": [
    "### Biography info\n",
    "Ask a user for their personal information one question at a time. Then check that the information they entered is valid. Finally, print a summary of all the information they entered back to them.\n",
    "\n",
    "Example: What is your name? If the user enters * you prompt them that the input is wrong, and ask them to enter a valid name.\n",
    "\n",
    "At the end you print a summary that looks like this:\n",
    "```\n",
    "- Name: John Doe\n",
    "- Date of birth: Jan 1, 1954\n",
    "- Address: 24 fifth Ave, NY\n",
    "- Personal goals: To be the best programmer there ever was.```"
   ]
  },
  {
   "cell_type": "markdown",
   "metadata": {},
   "source": [
    "_I will not do this, as it requires regular expressions, no time now!_"
   ]
  },
  {
   "cell_type": "markdown",
   "metadata": {},
   "source": [
    "### What's my acronym?\n",
    "Ask the user to enter the full meaning of an organization or concept and you'll provide the acronym to the user. For example:\n",
    "\n",
    "```\n",
    "Input -> As Soon As Possible. \n",
    "Output -> ASAP.\n",
    "Input -> World Health Organization. \n",
    "Output -> WHO.\n",
    "Input -> Absent Without Leave. \n",
    "Output -> AWOL.```"
   ]
  },
  {
   "cell_type": "code",
   "execution_count": 30,
   "metadata": {
    "ExecuteTime": {
     "end_time": "2021-02-10T21:49:39.563987Z",
     "start_time": "2021-02-10T21:49:39.553016Z"
    }
   },
   "outputs": [],
   "source": [
    "def acronym(words=None):\n",
    "    if words is None:\n",
    "        words= input(\"What is the name you want to abbreviate? \")\n",
    "    word_list = words.split(\" \")\n",
    "    initials = [word[0].upper() for word in word_list]\n",
    "    print (f\"The acronym is {''.join(initials)}\")"
   ]
  },
  {
   "cell_type": "code",
   "execution_count": 31,
   "metadata": {
    "ExecuteTime": {
     "end_time": "2021-02-10T21:49:45.367072Z",
     "start_time": "2021-02-10T21:49:45.362084Z"
    }
   },
   "outputs": [
    {
     "name": "stdout",
     "output_type": "stream",
     "text": [
      "The acronym is ASAP\n"
     ]
    }
   ],
   "source": [
    "# Test run 1\n",
    "acronym(\"as soon as possible\")"
   ]
  },
  {
   "cell_type": "code",
   "execution_count": 32,
   "metadata": {
    "ExecuteTime": {
     "end_time": "2021-02-10T21:50:20.912179Z",
     "start_time": "2021-02-10T21:50:02.345641Z"
    }
   },
   "outputs": [
    {
     "name": "stdout",
     "output_type": "stream",
     "text": [
      "What is the name you want to abbreviate? World health organization\n",
      "The acronym is WHO\n"
     ]
    }
   ],
   "source": [
    "# Test run 2\n",
    "acronym()"
   ]
  },
  {
   "cell_type": "markdown",
   "metadata": {},
   "source": [
    "### Rock, Paper, Scissors\n",
    "This is a popular game played between two people. Each player gets to form one of three shapes using their hand:\n",
    "\n",
    "- rock (a closed fist)\n",
    "- paper (a flat hand)\n",
    "- scissors (a fist with the index finger and middle finger extended, forming a V)\n",
    "\n",
    "**The rules**\n",
    "- The Rock beats the Scissors\n",
    "- The Scissors beats the Paper\n",
    "- The Paper beats the Rock\n",
    "- Selecting the same tool is a tie\n"
   ]
  },
  {
   "cell_type": "code",
   "execution_count": 1,
   "metadata": {
    "ExecuteTime": {
     "end_time": "2021-02-10T22:37:24.834407Z",
     "start_time": "2021-02-10T22:37:24.824433Z"
    }
   },
   "outputs": [],
   "source": [
    "import random\n",
    "\n",
    "\n",
    "def r_p_s_game():\n",
    "    beats = {'r': 's', \"s\": 'p', \"p\": 'r'}\n",
    "    names = {'r': 'Rock', \"s\": 'Scissors', \"p\": 'Paper'}\n",
    "    computer = random.choice(list(beats.keys()))\n",
    "    ex = False # Exit flag\n",
    "    user = input(\"Rock, Scissors, or Paper (You can type the 1st letter): \")\n",
    "    if len(user) == 0:\n",
    "        print(\"Invalid input! Try again\")\n",
    "        ex = True\n",
    "        r_p_s_game()\n",
    "    else:\n",
    "        user = user.lower()[0]\n",
    "        if user not in names.keys():\n",
    "            print(\"Invalid selection! Try again\")\n",
    "            ex= True\n",
    "            r_p_s_game()\n",
    "    if ex:\n",
    "        exit()\n",
    "    try:\n",
    "        print(\n",
    "            f\"The computer selected {names[computer]}, you selected {names[user]}\\n\"\n",
    "        )\n",
    "        if computer == user:\n",
    "            print(\"*Tie*\")\n",
    "        elif user == beats[computer]:\n",
    "            print(\"The computer won!\")\n",
    "        else:\n",
    "            print(\"YOU WON!\")\n",
    "\n",
    "        response = input(\"\\nPress Q to quit, any other key to continue \")\n",
    "\n",
    "        if response.lower() != \"q\":\n",
    "            r_p_s_game()\n",
    "        else:\n",
    "            print('\\nThank you for playing, \\n\\n\\tGood bye!')\n",
    "    except:\n",
    "        print(\"\")"
   ]
  },
  {
   "cell_type": "code",
   "execution_count": 2,
   "metadata": {
    "ExecuteTime": {
     "end_time": "2021-02-10T22:38:07.541845Z",
     "start_time": "2021-02-10T22:37:26.320105Z"
    }
   },
   "outputs": [
    {
     "name": "stdout",
     "output_type": "stream",
     "text": [
      "Rock, Scissors, or Paper (You can type the 1st letter): r\n",
      "The computer selected Scissors, you selected Rock\n",
      "\n",
      "YOU WON!\n",
      "\n",
      "Press Q to quit, any other key to continue s\n",
      "Rock, Scissors, or Paper (You can type the 1st letter): \n",
      "Invalid input! Try again\n",
      "Rock, Scissors, or Paper (You can type the 1st letter): rt\n",
      "The computer selected Scissors, you selected Rock\n",
      "\n",
      "YOU WON!\n",
      "\n",
      "Press Q to quit, any other key to continue t\n",
      "Rock, Scissors, or Paper (You can type the 1st letter): \n",
      "Invalid input! Try again\n",
      "Rock, Scissors, or Paper (You can type the 1st letter): h\n",
      "Invalid selection! Try again\n",
      "Rock, Scissors, or Paper (You can type the 1st letter): s\n",
      "The computer selected Paper, you selected Scissors\n",
      "\n",
      "YOU WON!\n",
      "\n",
      "Press Q to quit, any other key to continue p\n",
      "Rock, Scissors, or Paper (You can type the 1st letter): \n",
      "Invalid input! Try again\n",
      "Rock, Scissors, or Paper (You can type the 1st letter): p\n",
      "The computer selected Paper, you selected Paper\n",
      "\n",
      "*Tie*\n",
      "\n",
      "Press Q to quit, any other key to continue p\n",
      "Rock, Scissors, or Paper (You can type the 1st letter): p\n",
      "The computer selected Scissors, you selected Paper\n",
      "\n",
      "The computer won!\n",
      "\n",
      "Press Q to quit, any other key to continue q\n",
      "\n",
      "Thank you for playing, \n",
      "\n",
      "\tGood bye!\n",
      "\n",
      "\n",
      "\n",
      "\n"
     ]
    }
   ],
   "source": [
    "r_p_s_game()"
   ]
  },
  {
   "cell_type": "markdown",
   "metadata": {},
   "source": [
    "### Guess the number\n",
    "You ask a user to guess a number between 1 and 50.\n",
    "\n",
    "If they guess outside that range, you prompt with an error encouraging them to choose a number within the proper range.\n",
    "\n",
    "Whenever they guess the wrong number you ask if they want to keep playing or if they'd like to quit.\n",
    "\n",
    "Finally, when the user eventually guesses the right number you congratulate them and show the number of attempts they had."
   ]
  },
  {
   "cell_type": "code",
   "execution_count": 9,
   "metadata": {
    "ExecuteTime": {
     "end_time": "2021-02-10T22:50:14.351822Z",
     "start_time": "2021-02-10T22:50:14.334866Z"
    }
   },
   "outputs": [],
   "source": [
    "import random\n",
    "def guess_it(guess=None):\n",
    "    if guess is None:\n",
    "        guess = random.randint(1, 50)\n",
    "    # print(guess)\n",
    "    user = input(\"please enter a number between 1 and 50, inclusive.: \")\n",
    "    try:\n",
    "        user = int(user)\n",
    "    except:\n",
    "        print(\"Wrong input, try again\")\n",
    "        guess_it()\n",
    "        \n",
    "    if guess == user:\n",
    "        print(f\"You Won, {user} is my guess too!\")\n",
    "        print ('Thanks for playing')\n",
    "    if guess > user:\n",
    "        print(\"Your guess is smaller, Try again.\") \n",
    "        guess_it(guess)\n",
    "    if guess < user:\n",
    "        print(\"Your guess is larger, Try again.\") \n",
    "        guess_it(guess)"
   ]
  },
  {
   "cell_type": "code",
   "execution_count": 12,
   "metadata": {
    "ExecuteTime": {
     "end_time": "2021-02-10T22:52:17.614619Z",
     "start_time": "2021-02-10T22:51:55.056408Z"
    }
   },
   "outputs": [
    {
     "name": "stdout",
     "output_type": "stream",
     "text": [
      "please enter a number between 1 and 50, inclusive.: 25\n",
      "Your guess is larger, Try again.\n",
      "please enter a number between 1 and 50, inclusive.: 15\n",
      "Your guess is larger, Try again.\n",
      "please enter a number between 1 and 50, inclusive.: 10\n",
      "Your guess is larger, Try again.\n",
      "please enter a number between 1 and 50, inclusive.: 5\n",
      "Your guess is larger, Try again.\n",
      "please enter a number between 1 and 50, inclusive.: 2\n",
      "Your guess is smaller, Try again.\n",
      "please enter a number between 1 and 50, inclusive.: 3\n",
      "Your guess is smaller, Try again.\n",
      "please enter a number between 1 and 50, inclusive.: 4\n",
      "You Won, 4 is my guess too!\n",
      "Thanks for playing\n"
     ]
    }
   ],
   "source": [
    "guess_it()"
   ]
  },
  {
   "cell_type": "code",
   "execution_count": 15,
   "metadata": {
    "ExecuteTime": {
     "end_time": "2021-02-10T22:57:47.306944Z",
     "start_time": "2021-02-10T22:57:47.289990Z"
    }
   },
   "outputs": [],
   "source": [
    "# Another implimentation\n",
    "def guess_it2(guess=None):\n",
    "    if guess is None:\n",
    "        guess = random.randint(1, 50)\n",
    "        \n",
    "    miss_it = True    \n",
    "    while miss_it:\n",
    "        user = False\n",
    "        while user==False:\n",
    "            user = input(\"please enter a number between 1 and 50, inclusive.: \")\n",
    "            try:\n",
    "                user = int(user)\n",
    "            except:\n",
    "                print(\"Wrong input, try again\")\n",
    "                user = False\n",
    "\n",
    "        if guess == user:\n",
    "            print(f\"You Won, {user} is my guess too!\")\n",
    "            print ('Thanks for playing')\n",
    "            miss_it = False\n",
    "        if guess > user:\n",
    "            print(\"Your guess is smaller, Try again.\") \n",
    "        if guess < user:\n",
    "            print(\"Your guess is larger, Try again.\") "
   ]
  },
  {
   "cell_type": "code",
   "execution_count": 16,
   "metadata": {
    "ExecuteTime": {
     "end_time": "2021-02-10T22:58:04.352660Z",
     "start_time": "2021-02-10T22:57:47.825254Z"
    }
   },
   "outputs": [
    {
     "name": "stdout",
     "output_type": "stream",
     "text": [
      "please enter a number between 1 and 50, inclusive.: 25\n",
      "Your guess is larger, Try again.\n",
      "please enter a number between 1 and 50, inclusive.: 15\n",
      "Your guess is smaller, Try again.\n",
      "please enter a number between 1 and 50, inclusive.: 20\n",
      "Your guess is smaller, Try again.\n",
      "please enter a number between 1 and 50, inclusive.: 22\n",
      "Your guess is larger, Try again.\n",
      "please enter a number between 1 and 50, inclusive.: 21\n",
      "You Won, 21 is my guess too!\n",
      "Thanks for playing\n"
     ]
    }
   ],
   "source": [
    "guess_it2()"
   ]
  },
  {
   "cell_type": "markdown",
   "metadata": {},
   "source": [
    "### Is a palindrome\n",
    "Ask the user to give you five words. Then check if any of the five words is a palindrome.\n",
    "\n",
    "A palindrome is a word that remains the same whether it's read forward or backward.\n",
    "\n",
    "Example:\n",
    "```\n",
    "madam is a palindrome.\n",
    "so is malayalam.\n",
    "But not geeks.```"
   ]
  },
  {
   "cell_type": "code",
   "execution_count": 31,
   "metadata": {
    "ExecuteTime": {
     "end_time": "2021-02-10T23:22:03.008702Z",
     "start_time": "2021-02-10T23:22:03.000724Z"
    }
   },
   "outputs": [],
   "source": [
    "def is_a_plaindrome():\n",
    "    original_words = input('Please give me some words: ')\n",
    "    words = original_words.lower().split(\" \")\n",
    "    for word in words:\n",
    "        if word == word[::-1]:\n",
    "            print(f'The word *{word:^10}* is     a plaindrome')\n",
    "        else:\n",
    "            print(f'The word {word:^12} is NOT a plaindrome')"
   ]
  },
  {
   "cell_type": "code",
   "execution_count": 32,
   "metadata": {
    "ExecuteTime": {
     "end_time": "2021-02-10T23:22:05.545014Z",
     "start_time": "2021-02-10T23:22:03.890350Z"
    }
   },
   "outputs": [
    {
     "name": "stdout",
     "output_type": "stream",
     "text": [
      "Please give me some words: Our neighbour, Madam Mila is a malayalam beeb\n",
      "The word     our      is NOT a plaindrome\n",
      "The word  neighbour,  is NOT a plaindrome\n",
      "The word *  madam   * is     a plaindrome\n",
      "The word     mila     is NOT a plaindrome\n",
      "The word      is      is NOT a plaindrome\n",
      "The word *    a     * is     a plaindrome\n",
      "The word *malayalam * is     a plaindrome\n",
      "The word *   beeb   * is     a plaindrome\n"
     ]
    }
   ],
   "source": [
    "is_a_plaindrome()#Our neighbour, Madam Mila is a malayalam beeb"
   ]
  },
  {
   "cell_type": "markdown",
   "metadata": {},
   "source": [
    "### Calculate the tip\n",
    "Your goal is to find out exactly how much tip you should give after receiving a service. In this scenario, ask for the total bill. Then display the tip for 18%, 20% and 25%.\n",
    "\n",
    "Example:\n",
    "```\n",
    "Prompt: what's the total bill for today, please?\n",
    "Input: $55.87\n",
    "Output: 18% tip is $10.06, which brings your total to $65.93\n",
    "Remember you want to be nice, so don't forget to round up. To push this more, ask for the number of people involved, then evenly split the tip and total cost among them.\n",
    "\n",
    "To go even a step further, split unevenly (for example, one person pays 70% of the bill while the other pays 30%)```"
   ]
  },
  {
   "cell_type": "code",
   "execution_count": 39,
   "metadata": {
    "ExecuteTime": {
     "end_time": "2021-02-10T23:42:33.959350Z",
     "start_time": "2021-02-10T23:42:33.947381Z"
    }
   },
   "outputs": [],
   "source": [
    "def Calculate_the_tip(tip_percent=18):\n",
    "    bill = float(input(\"what's the total bill for today, please? \"))\n",
    "    tip_value = bill * tip_percent / 100\n",
    "    total = bill + tip_value\n",
    "    print(f\"{tip_percent}% tip is ${tip_value:5.2f}, \"\n",
    "          f\"which brings your total to ${total:5.2f}\")\n",
    "    to_split = input(\"Do you want to split among friends? Y for yes \")\n",
    "    if to_split.lower()=='y':\n",
    "        num = int(input(\"How many people? \"))\n",
    "        each = total/num\n",
    "        print(f\"Each one should pay ${each:5.2f}\")"
   ]
  },
  {
   "cell_type": "code",
   "execution_count": 40,
   "metadata": {
    "ExecuteTime": {
     "end_time": "2021-02-10T23:42:46.426344Z",
     "start_time": "2021-02-10T23:42:34.354581Z"
    }
   },
   "outputs": [
    {
     "name": "stdout",
     "output_type": "stream",
     "text": [
      "what's the total bill for today, please? 55.87\n",
      "18% tip is $10.06, which brings your total to $65.93\n",
      "Do you want to split among friends? Y for yes y\n",
      "How many people? 5\n",
      "Each one should pay $13.19\n"
     ]
    }
   ],
   "source": [
    "Calculate_the_tip()"
   ]
  },
  {
   "cell_type": "markdown",
   "metadata": {},
   "source": [
    "### Email slicer\n",
    "Collect an email address from the user and then find out if the user has a custom domain name or a popular domain name. For example:\n",
    "```\n",
    "Input: mary.jane@gmail.com\n",
    "Output: Hey Mary, I see your email is registered with Google. That's cool!.\n",
    "Input: peter.pan@myfantasy.com\n",
    "Output: Hey Peter, looks like you've got your own custom setup at MyFantasy. Impressive!.```\n",
    "This is a convenient python project that has a lot of use in the future. The program helps get you the username and domain name from an email address.\n",
    "\n",
    "If you want to push this further, you can customize the application and send a message to the host with this information.\n",
    "\n",
    "Here's a Youtube tutorial and example code from Github."
   ]
  },
  {
   "cell_type": "code",
   "execution_count": 47,
   "metadata": {
    "ExecuteTime": {
     "end_time": "2021-02-10T23:58:25.671423Z",
     "start_time": "2021-02-10T23:58:25.656463Z"
    }
   },
   "outputs": [],
   "source": [
    "def email_slicer():\n",
    "    email = input(\"Please enter your email: \")\n",
    "    email_parts = email.split(\"@\")\n",
    "    domain_list = email_parts[-1].split(\".\")\n",
    "    email_list = [email_parts[0]] + domain_list\n",
    "    common_emails = [\"gmail\", 'yahoo', 'aol', 'hotmail']\n",
    "    if email_list[1] in common_emails:\n",
    "        print(f\"Hey {email_list[0]}, I see your email is not of a buisness.\")\n",
    "    else:\n",
    "        print(f\"Great buisness address {email_list[0]}.\")\n",
    "        print(f\"{email_parts[1]} is a good domain by the way\")"
   ]
  },
  {
   "cell_type": "code",
   "execution_count": 48,
   "metadata": {
    "ExecuteTime": {
     "end_time": "2021-02-10T23:58:36.033135Z",
     "start_time": "2021-02-10T23:58:26.397707Z"
    }
   },
   "outputs": [
    {
     "name": "stdout",
     "output_type": "stream",
     "text": [
      "Please enter your email: drnesr@gmail.com\n",
      "Hey drnesr, I see your email is not of a buisness.\n"
     ]
    }
   ],
   "source": [
    "email_slicer()"
   ]
  },
  {
   "cell_type": "code",
   "execution_count": 49,
   "metadata": {
    "ExecuteTime": {
     "end_time": "2021-02-10T23:59:07.110829Z",
     "start_time": "2021-02-10T23:58:49.757303Z"
    }
   },
   "outputs": [
    {
     "name": "stdout",
     "output_type": "stream",
     "text": [
      "Please enter your email: Hani@company.net\n",
      "Great buisness address Hani.\n",
      "company.net is a good domain by the way\n"
     ]
    }
   ],
   "source": [
    "email_slicer()"
   ]
  },
  {
   "cell_type": "code",
   "execution_count": null,
   "metadata": {},
   "outputs": [],
   "source": []
  }
 ],
 "metadata": {
  "kernelspec": {
   "display_name": "Python 3",
   "language": "python",
   "name": "python3"
  },
  "language_info": {
   "codemirror_mode": {
    "name": "ipython",
    "version": 3
   },
   "file_extension": ".py",
   "mimetype": "text/x-python",
   "name": "python",
   "nbconvert_exporter": "python",
   "pygments_lexer": "ipython3",
   "version": "3.8.3"
  },
  "varInspector": {
   "cols": {
    "lenName": 16,
    "lenType": 16,
    "lenVar": 40
   },
   "kernels_config": {
    "python": {
     "delete_cmd_postfix": "",
     "delete_cmd_prefix": "del ",
     "library": "var_list.py",
     "varRefreshCmd": "print(var_dic_list())"
    },
    "r": {
     "delete_cmd_postfix": ") ",
     "delete_cmd_prefix": "rm(",
     "library": "var_list.r",
     "varRefreshCmd": "cat(var_dic_list()) "
    }
   },
   "types_to_exclude": [
    "module",
    "function",
    "builtin_function_or_method",
    "instance",
    "_Feature"
   ],
   "window_display": false
  }
 },
 "nbformat": 4,
 "nbformat_minor": 4
}
