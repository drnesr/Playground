{
 "cells": [
  {
   "cell_type": "markdown",
   "metadata": {},
   "source": [
    "# [42 Exciting Python Project Ideas & Topics for Beginners in 2021](https://www.upgrad.com/blog/python-projects-ideas-topics-beginners/)\n",
    "\n",
    "***Rohit Sharma***"
   ]
  },
  {
   "cell_type": "markdown",
   "metadata": {
    "ExecuteTime": {
     "end_time": "2021-02-11T00:53:16.265404Z",
     "start_time": "2021-02-11T00:53:16.250445Z"
    }
   },
   "source": [
    "\n",
    "Python Project Ideas: Beginners Level\n",
    "1. Mad Libs Generator ✅\n",
    "2. Number Guessing ✅\n",
    "3. Text-based Adventure Game\n",
    "4. Dice Rolling Simulator\n",
    "5. Hangman\n",
    "6. Contact Book\n",
    "7. Email Slicer ✅\n",
    "8. Binary search algorithm\n",
    "9. Desktop Notifier App\n",
    "10. Python Story Generator ✅\n",
    "11. YouTube video downloader\n",
    "12. Python Website Blocker\n",
    "13. Spin a Yarn \n",
    "14. What’s the word?\n",
    "15. Rock, Paper, Scissors ✅\n",
    "16. Leap it!\n",
    "17. Find out, Fibonacci!"
   ]
  },
  {
   "cell_type": "markdown",
   "metadata": {},
   "source": [
    "### Dice Rolling Simulator (#4)\n",
    "\n",
    "\n",
    "As the name of the program suggests, we will be imitating a rolling dice. This is one of the interesting python projects and will generate a random number each dice the program runs, and the users can use the dice repeatedly for as long as he wants. When the user rolls the dice, the program will generate a random number between 1 and 6 (as on a standard dice).\n",
    "\n",
    "The number will then be displayed to the user. It will also ask users if they would like to roll the dice again. The program should also include a function that can randomly grab a number within 1 to 6 and print it. This beginner-level python projects will help build a strong foundation for fundamental programming concepts."
   ]
  },
  {
   "cell_type": "code",
   "execution_count": 2,
   "metadata": {
    "ExecuteTime": {
     "end_time": "2021-02-11T03:05:35.793974Z",
     "start_time": "2021-02-11T03:05:35.784998Z"
    }
   },
   "outputs": [],
   "source": [
    "import random\n",
    "def roll_dice(dice_count=1, val_max=6, val_min=1):\n",
    "    def get_val(val_max=6, val_min=1):\n",
    "        return random.randint(val_min, val_max)\n",
    "\n",
    "    result=[]\n",
    "    for dice in range(dice_count):\n",
    "        result.append(get_val(val_max, val_min))\n",
    "    if len(result)==1: \n",
    "        return result[0]\n",
    "    else:\n",
    "        return tuple(result)"
   ]
  },
  {
   "cell_type": "code",
   "execution_count": 3,
   "metadata": {
    "ExecuteTime": {
     "end_time": "2021-02-11T03:05:45.931808Z",
     "start_time": "2021-02-11T03:05:45.918824Z"
    }
   },
   "outputs": [
    {
     "data": {
      "text/plain": [
       "2"
      ]
     },
     "execution_count": 3,
     "metadata": {},
     "output_type": "execute_result"
    }
   ],
   "source": [
    "roll_dice()"
   ]
  },
  {
   "cell_type": "code",
   "execution_count": 5,
   "metadata": {
    "ExecuteTime": {
     "end_time": "2021-02-11T03:06:20.505286Z",
     "start_time": "2021-02-11T03:06:20.495315Z"
    }
   },
   "outputs": [
    {
     "data": {
      "text/plain": [
       "[(5, 1), (6, 5), (1, 3), (6, 6), (3, 6), (5, 2)]"
      ]
     },
     "execution_count": 5,
     "metadata": {},
     "output_type": "execute_result"
    }
   ],
   "source": [
    "[roll_dice(2) for _ in range(6)]"
   ]
  },
  {
   "cell_type": "code",
   "execution_count": 6,
   "metadata": {
    "ExecuteTime": {
     "end_time": "2021-02-11T03:07:07.944460Z",
     "start_time": "2021-02-11T03:07:07.927506Z"
    }
   },
   "outputs": [
    {
     "data": {
      "text/plain": [
       "[(6, 5, 1), (1, 9, 2), (4, 9, 5), (3, 8, 4), (3, 7, 3), (9, 5, 6)]"
      ]
     },
     "execution_count": 6,
     "metadata": {},
     "output_type": "execute_result"
    }
   ],
   "source": [
    "[roll_dice(3, 9, 1) for _ in range(6)]"
   ]
  },
  {
   "cell_type": "code",
   "execution_count": null,
   "metadata": {},
   "outputs": [],
   "source": []
  }
 ],
 "metadata": {
  "kernelspec": {
   "display_name": "Python 3",
   "language": "python",
   "name": "python3"
  },
  "language_info": {
   "codemirror_mode": {
    "name": "ipython",
    "version": 3
   },
   "file_extension": ".py",
   "mimetype": "text/x-python",
   "name": "python",
   "nbconvert_exporter": "python",
   "pygments_lexer": "ipython3",
   "version": "3.8.3"
  },
  "varInspector": {
   "cols": {
    "lenName": 16,
    "lenType": 16,
    "lenVar": 40
   },
   "kernels_config": {
    "python": {
     "delete_cmd_postfix": "",
     "delete_cmd_prefix": "del ",
     "library": "var_list.py",
     "varRefreshCmd": "print(var_dic_list())"
    },
    "r": {
     "delete_cmd_postfix": ") ",
     "delete_cmd_prefix": "rm(",
     "library": "var_list.r",
     "varRefreshCmd": "cat(var_dic_list()) "
    }
   },
   "types_to_exclude": [
    "module",
    "function",
    "builtin_function_or_method",
    "instance",
    "_Feature"
   ],
   "window_display": false
  }
 },
 "nbformat": 4,
 "nbformat_minor": 4
}
