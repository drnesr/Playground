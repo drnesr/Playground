{
 "cells": [
  {
   "cell_type": "markdown",
   "metadata": {},
   "source": [
    "# [42 Exciting Python Project Ideas & Topics for Beginners in 2021](https://www.upgrad.com/blog/python-projects-ideas-topics-beginners/)\n",
    "\n",
    "***Rohit Sharma***"
   ]
  },
  {
   "cell_type": "markdown",
   "metadata": {
    "ExecuteTime": {
     "end_time": "2021-02-11T00:53:16.265404Z",
     "start_time": "2021-02-11T00:53:16.250445Z"
    }
   },
   "source": [
    "\n",
    "Python Project Ideas: Beginners Level\n",
    "1. Mad Libs Generator ✅\n",
    "2. Number Guessing ✅\n",
    "3. Text-based Adventure Game\n",
    "4. Dice Rolling Simulator\n",
    "5. Hangman\n",
    "6. Contact Book\n",
    "7. Email Slicer ✅\n",
    "8. Binary search algorithm\n",
    "9. Desktop Notifier App\n",
    "10. Python Story Generator ✅\n",
    "11. YouTube video downloader\n",
    "12. Python Website Blocker\n",
    "13. Spin a Yarn \n",
    "14. What’s the word?\n",
    "15. Rock, Paper, Scissors ✅\n",
    "16. Leap it!\n",
    "17. Find out, Fibonacci!"
   ]
  },
  {
   "cell_type": "markdown",
   "metadata": {},
   "source": [
    "### Dice Rolling Simulator (#4)\n",
    "\n",
    "\n",
    "As the name of the program suggests, we will be imitating a rolling dice. This is one of the interesting python projects and will generate a random number each dice the program runs, and the users can use the dice repeatedly for as long as he wants. When the user rolls the dice, the program will generate a random number between 1 and 6 (as on a standard dice).\n",
    "\n",
    "The number will then be displayed to the user. It will also ask users if they would like to roll the dice again. The program should also include a function that can randomly grab a number within 1 to 6 and print it. This beginner-level python projects will help build a strong foundation for fundamental programming concepts."
   ]
  },
  {
   "cell_type": "code",
   "execution_count": 2,
   "metadata": {
    "ExecuteTime": {
     "end_time": "2021-02-11T03:05:35.793974Z",
     "start_time": "2021-02-11T03:05:35.784998Z"
    }
   },
   "outputs": [],
   "source": [
    "import random\n",
    "def roll_dice(dice_count=1, val_max=6, val_min=1):\n",
    "    def get_val(val_max=6, val_min=1):\n",
    "        return random.randint(val_min, val_max)\n",
    "\n",
    "    result=[]\n",
    "    for dice in range(dice_count):\n",
    "        result.append(get_val(val_max, val_min))\n",
    "    if len(result)==1: \n",
    "        return result[0]\n",
    "    else:\n",
    "        return tuple(result)"
   ]
  },
  {
   "cell_type": "code",
   "execution_count": 3,
   "metadata": {
    "ExecuteTime": {
     "end_time": "2021-02-11T03:05:45.931808Z",
     "start_time": "2021-02-11T03:05:45.918824Z"
    }
   },
   "outputs": [
    {
     "data": {
      "text/plain": [
       "2"
      ]
     },
     "execution_count": 3,
     "metadata": {},
     "output_type": "execute_result"
    }
   ],
   "source": [
    "roll_dice()"
   ]
  },
  {
   "cell_type": "code",
   "execution_count": 5,
   "metadata": {
    "ExecuteTime": {
     "end_time": "2021-02-11T03:06:20.505286Z",
     "start_time": "2021-02-11T03:06:20.495315Z"
    }
   },
   "outputs": [
    {
     "data": {
      "text/plain": [
       "[(5, 1), (6, 5), (1, 3), (6, 6), (3, 6), (5, 2)]"
      ]
     },
     "execution_count": 5,
     "metadata": {},
     "output_type": "execute_result"
    }
   ],
   "source": [
    "[roll_dice(2) for _ in range(6)]"
   ]
  },
  {
   "cell_type": "code",
   "execution_count": 6,
   "metadata": {
    "ExecuteTime": {
     "end_time": "2021-02-11T03:07:07.944460Z",
     "start_time": "2021-02-11T03:07:07.927506Z"
    }
   },
   "outputs": [
    {
     "data": {
      "text/plain": [
       "[(6, 5, 1), (1, 9, 2), (4, 9, 5), (3, 8, 4), (3, 7, 3), (9, 5, 6)]"
      ]
     },
     "execution_count": 6,
     "metadata": {},
     "output_type": "execute_result"
    }
   ],
   "source": [
    "[roll_dice(3, 9, 1) for _ in range(6)]"
   ]
  },
  {
   "cell_type": "markdown",
   "metadata": {},
   "source": [
    "### Hangman (#5)\n",
    "This is more of a “guess the word” game. The core concepts you have to use while developing this project are variables, random, integer, strings, char, input and output, and boolean. In the game, users have to enter letter guesses, and each user will have a limited number of guesses (a counter variable is needed for limiting the guesses). This is one of the interesting python projects to begin with. \n",
    "\n",
    "You can create a pre-organized list of words that users can grab words from. Also, you must include specific functions to check whether or not a user has entered a single letter or if the input letter is in the hidden word, to if the user has actually inputted a single letter, and to print the correct outcomes (letters)."
   ]
  },
  {
   "cell_type": "code",
   "execution_count": 6,
   "metadata": {
    "ExecuteTime": {
     "end_time": "2021-02-11T03:55:06.500125Z",
     "start_time": "2021-02-11T03:55:06.486163Z"
    }
   },
   "outputs": [],
   "source": [
    "import random\n",
    "\n",
    "\n",
    "def hangman(trials=7, wordlist=['cat', 'dog', 'pet', 'bird']):\n",
    "    the_word = random.choice(wordlist)\n",
    "    print('Guess the word')\n",
    "    letters_count = len(the_word)\n",
    "    correct_letters = 0\n",
    "    remaining_trials = trials\n",
    "    current_guess = '-' * letters_count\n",
    "    def print_log():\n",
    "        print(\n",
    "            '\\t', current_guess, f'[{correct_letters}/{letters_count} in place, '\n",
    "            f'remaining = {remaining_trials}]')\n",
    "    print_log()\n",
    "    while correct_letters < letters_count and remaining_trials>0:\n",
    "        guess = input('Guess a letter: ')\n",
    "        remaining_trials-=1\n",
    "        if guess in the_word:\n",
    "            current_guess = ''.join([\n",
    "                x if the_word[i] != guess else the_word[i]\n",
    "                for i, x in enumerate(current_guess)\n",
    "            ])\n",
    "            correct_letters = letters_count-current_guess.count('-')\n",
    "        print_log()\n",
    "    else: # the loop ended\n",
    "        if remaining_trials<=0:\n",
    "            print(\"No more trials!\\n\\nGame Over\")\n",
    "            print(f'The correct word was {the_word}')\n",
    "            pass\n",
    "        else:\n",
    "            print(\"YOU WON!\\n\\nGame Over\")\n",
    "            pass      "
   ]
  },
  {
   "cell_type": "code",
   "execution_count": 2,
   "metadata": {
    "ExecuteTime": {
     "end_time": "2021-02-11T03:51:48.453421Z",
     "start_time": "2021-02-11T03:51:48.438462Z"
    }
   },
   "outputs": [],
   "source": [
    "# current_guess = '---'\n",
    "# guess= 'a'\n",
    "# the_word = 'cat'\n",
    "# # [x for x, i in enumerate(current_guess) if the_word[i]!=guess else the_word[i]]\n",
    "# [x if the_word[i]!=guess else the_word[i] for i, x in enumerate(current_guess) ]"
   ]
  },
  {
   "cell_type": "code",
   "execution_count": 30,
   "metadata": {
    "ExecuteTime": {
     "end_time": "2021-02-11T03:50:12.977733Z",
     "start_time": "2021-02-11T03:49:53.089211Z"
    }
   },
   "outputs": [
    {
     "name": "stdout",
     "output_type": "stream",
     "text": [
      "Guess the word\n",
      "\t --- [0/3 in place, remaining = 7]\n",
      "Guess a letter: e\n",
      "\t --- [0/3 in place, remaining = 6]\n",
      "Guess a letter: \n",
      "\t --- [0/3 in place, remaining = 5]\n",
      "Guess a letter: i\n",
      "\t --- [0/3 in place, remaining = 4]\n",
      "Guess a letter: a\n",
      "\t -a- [1/3 in place, remaining = 3]\n",
      "Guess a letter: c\n",
      "\t ca- [2/3 in place, remaining = 2]\n",
      "Guess a letter: t\n",
      "\t cat [3/3 in place, remaining = 1]\n",
      "YOU WON!\n",
      "\n",
      "Game Over\n"
     ]
    }
   ],
   "source": [
    "hangman()"
   ]
  },
  {
   "cell_type": "code",
   "execution_count": 4,
   "metadata": {
    "ExecuteTime": {
     "end_time": "2021-02-11T03:53:38.902722Z",
     "start_time": "2021-02-11T03:53:38.897762Z"
    }
   },
   "outputs": [],
   "source": [
    "words = 'This is more of a “guess the word” game. The core concepts you have to use while developing this project are variables, random, integer, strings, char, input and output, and boolean. In the game, users have to enter letter guesses, and each user will have a limited number of guesses (a counter variable is needed for limiting the guesses). This is one of the interesting python projects to begin with.'"
   ]
  },
  {
   "cell_type": "code",
   "execution_count": 3,
   "metadata": {
    "ExecuteTime": {
     "end_time": "2021-02-11T03:52:29.352091Z",
     "start_time": "2021-02-11T03:52:14.072841Z"
    }
   },
   "outputs": [
    {
     "name": "stdout",
     "output_type": "stream",
     "text": [
      "Guess the word\n",
      "\t --- [0/3 in place, remaining = 10]\n",
      "Guess a letter: e\n",
      "\t --e [1/3 in place, remaining = 9]\n",
      "Guess a letter: a\n",
      "\t a-e [2/3 in place, remaining = 8]\n",
      "Guess a letter: r\n",
      "\t are [3/3 in place, remaining = 7]\n",
      "YOU WON!\n",
      "\n",
      "Game Over\n"
     ]
    }
   ],
   "source": [
    "hangman(trials=10, wordlist=words.split(' '))"
   ]
  },
  {
   "cell_type": "code",
   "execution_count": 7,
   "metadata": {
    "ExecuteTime": {
     "end_time": "2021-02-11T03:55:40.888792Z",
     "start_time": "2021-02-11T03:55:11.841251Z"
    }
   },
   "outputs": [
    {
     "name": "stdout",
     "output_type": "stream",
     "text": [
      "Guess the word\n",
      "\t ---- [0/4 in place, remaining = 10]\n",
      "Guess a letter: e\n",
      "\t ---e [1/4 in place, remaining = 9]\n",
      "Guess a letter: a\n",
      "\t ---e [1/4 in place, remaining = 8]\n",
      "Guess a letter: i\n",
      "\t ---e [1/4 in place, remaining = 7]\n",
      "Guess a letter: d\n",
      "\t ---e [1/4 in place, remaining = 6]\n",
      "Guess a letter: j\n",
      "\t ---e [1/4 in place, remaining = 5]\n",
      "Guess a letter: e\n",
      "\t ---e [1/4 in place, remaining = 4]\n",
      "Guess a letter: z\n",
      "\t ---e [1/4 in place, remaining = 3]\n",
      "Guess a letter: l\n",
      "\t ---e [1/4 in place, remaining = 2]\n",
      "Guess a letter: g\n",
      "\t ---e [1/4 in place, remaining = 1]\n",
      "Guess a letter: w\n",
      "\t ---e [1/4 in place, remaining = 0]\n",
      "No more trials!\n",
      "\n",
      "Game Over\n",
      "The correct word was core\n"
     ]
    }
   ],
   "source": [
    "hangman(trials=10, wordlist=words.split(' '))"
   ]
  },
  {
   "cell_type": "markdown",
   "metadata": {},
   "source": [
    "### Binary search algorithm (#8)\n",
    "Have you ever heard the proverb, “finding a needle in a haystack.” This program is designed to do just that- by using a binary search algorithm. You can create a list of random numbers between 0 to 100, with every succeeding number having a difference of 2 between them.\n",
    "\n",
    "When the user inputs a random number, the program will check if that number is included in the list. It will do so by creating two halves of the list. If the program finds the number in the first half of the list, it will eliminate the other half and vice versa. The search will continue until the program finds the number input of the user or until the subarray size becomes 0 (this means that the number is not in the list). This python project idea will help you create an implement an algorithm that searches for an element in a list. "
   ]
  },
  {
   "cell_type": "code",
   "execution_count": 10,
   "metadata": {
    "ExecuteTime": {
     "end_time": "2021-02-12T02:11:19.574797Z",
     "start_time": "2021-02-12T02:11:19.563827Z"
    }
   },
   "outputs": [],
   "source": [
    "def binary_search(search_for, in_list, from_index, to_index):\n",
    "    # Recursive Solution\n",
    "    if to_index < from_index:\n",
    "        return -1\n",
    "    middle = (from_index + to_index) // 2\n",
    "    if search_for == in_list[middle]:\n",
    "        return middle\n",
    "    elif search_for > in_list[middle]:\n",
    "        return binary_search(search_for, in_list, middle + 1, to_index)\n",
    "    else:\n",
    "        return binary_search(search_for, in_list, from_index, middle - 1)"
   ]
  },
  {
   "cell_type": "code",
   "execution_count": 11,
   "metadata": {
    "ExecuteTime": {
     "end_time": "2021-02-12T02:11:20.131170Z",
     "start_time": "2021-02-12T02:11:20.116186Z"
    }
   },
   "outputs": [
    {
     "name": "stdout",
     "output_type": "stream",
     "text": [
      "0-1-2-3-4-5-6-7-8-"
     ]
    }
   ],
   "source": [
    "test_list = [1, 2, 5, 8, 16, 49, 115, 212, 500]\n",
    "item = 5\n",
    "\n",
    "for item in test_list:\n",
    "    print(binary_search(item, test_list, 0, len(test_list) + 1), end='-')"
   ]
  },
  {
   "cell_type": "code",
   "execution_count": 12,
   "metadata": {
    "ExecuteTime": {
     "end_time": "2021-02-12T02:11:22.968808Z",
     "start_time": "2021-02-12T02:11:22.963821Z"
    }
   },
   "outputs": [],
   "source": [
    "def easy_find(item, in_list):\n",
    "    location = binary_search(item, in_list, 0, len(in_list) + 1)\n",
    "    if location == -1:\n",
    "        print(f\"{item} is not a member in the given list\")\n",
    "    else:\n",
    "        print(f\"{item} is found at index {location} in the given list\")"
   ]
  },
  {
   "cell_type": "code",
   "execution_count": 13,
   "metadata": {
    "ExecuteTime": {
     "end_time": "2021-02-12T02:11:24.228263Z",
     "start_time": "2021-02-12T02:11:24.220285Z"
    }
   },
   "outputs": [
    {
     "name": "stdout",
     "output_type": "stream",
     "text": [
      "8 is found at index 3 in the given list\n"
     ]
    }
   ],
   "source": [
    "easy_find(8, test_list)"
   ]
  },
  {
   "cell_type": "code",
   "execution_count": 14,
   "metadata": {
    "ExecuteTime": {
     "end_time": "2021-02-12T02:11:24.946988Z",
     "start_time": "2021-02-12T02:11:24.934025Z"
    }
   },
   "outputs": [
    {
     "name": "stdout",
     "output_type": "stream",
     "text": [
      "80 is not a member in the given list\n"
     ]
    }
   ],
   "source": [
    "easy_find(80, test_list)"
   ]
  },
  {
   "cell_type": "code",
   "execution_count": 15,
   "metadata": {
    "ExecuteTime": {
     "end_time": "2021-02-12T02:24:02.341063Z",
     "start_time": "2021-02-12T02:24:02.329094Z"
    }
   },
   "outputs": [],
   "source": [
    "def binary_search_2(search_for, in_list):\n",
    "    # Iterative Solution\n",
    "    from_index, to_index = 0, len(in_list) + 1\n",
    "\n",
    "    while from_index <= to_index:\n",
    "        middle = (from_index + to_index) // 2\n",
    "        if search_for > in_list[middle]:# The item is at the right side\n",
    "            from_index = middle + 1\n",
    "        elif search_for < in_list[middle]:# The item is at the left side\n",
    "            to_index = middle - 1\n",
    "        else:# The item is at the middle\n",
    "            return middle\n",
    "    # Nothing found\n",
    "    return -1"
   ]
  },
  {
   "cell_type": "code",
   "execution_count": 18,
   "metadata": {
    "ExecuteTime": {
     "end_time": "2021-02-12T02:25:46.481475Z",
     "start_time": "2021-02-12T02:25:46.473473Z"
    }
   },
   "outputs": [
    {
     "name": "stdout",
     "output_type": "stream",
     "text": [
      "1 0\n",
      "5 2\n",
      "49 5\n",
      "100 -1\n",
      "212 7\n"
     ]
    }
   ],
   "source": [
    "for item in [1, 5, 49, 100, 212]:\n",
    "    print(item, binary_search_2(item, test_list))"
   ]
  },
  {
   "cell_type": "markdown",
   "metadata": {},
   "source": [
    "### YouTube video downloader(#11)\n",
    "\n",
    "\n",
    "One of the best ideas to start experimenting with you hands-on python projects for students is working on a YouTube video downloader. More than a billion people watch YouTube every month. Sometimes there are videos we like to download permanently. YouTube doesn’t give you that option, but you can create an app with a simple UI and the ability to download YouTube videos in different formats and video quality. This project looks tough, but it is straightforward when you start working on it.\n",
    "\n",
    "***I found an excelent tutorial [here](https://towardsdatascience.com/build-a-youtube-downloader-with-python-8ef2e6915d97)***"
   ]
  },
  {
   "cell_type": "markdown",
   "metadata": {},
   "source": [
    "#### installing libraries \n",
    "from [this article](https://jakevdp.github.io/blog/2017/12/05/installing-python-packages-from-jupyter/)"
   ]
  },
  {
   "cell_type": "code",
   "execution_count": 19,
   "metadata": {
    "ExecuteTime": {
     "end_time": "2021-02-12T03:35:01.081259Z",
     "start_time": "2021-02-12T03:34:52.989534Z"
    }
   },
   "outputs": [
    {
     "name": "stdout",
     "output_type": "stream",
     "text": [
      "Looking in indexes: https://pypi.anaconda.org/albertputinjobs/simple\n",
      "Collecting pytube3\n",
      "  Downloading https://pypi.anaconda.org/albertputinjobs/simple/pytube3/9.6.4/pytube3-9.6.4.tar.gz (47 kB)\n",
      "Requirement already satisfied: typing_extensions in c:\\programdata\\anaconda3\\lib\\site-packages (from pytube3) (3.7.4.2)\n",
      "Building wheels for collected packages: pytube3\n",
      "  Building wheel for pytube3 (setup.py): started\n",
      "  Building wheel for pytube3 (setup.py): finished with status 'done'\n",
      "  Created wheel for pytube3: filename=pytube3-9.6.4-py3-none-any.whl size=38531 sha256=d9715716b71007b2c380d962bcc3299756b665f4e331ab53a25fee1257379cde\n",
      "  Stored in directory: c:\\users\\drnesr\\appdata\\local\\pip\\cache\\wheels\\fd\\77\\ef\\57da794b39a4e0bdcc2d32d4f254da2f1f3723cf883789e2ec\n",
      "Successfully built pytube3\n",
      "Installing collected packages: pytube3\n",
      "Successfully installed pytube3-9.6.4\n"
     ]
    }
   ],
   "source": [
    "# Install a conda package in the current Jupyter kernel\n",
    "import sys\n",
    "# !conda install --yes --prefix {sys.prefix} numpy\n",
    "# {sys.executable} -m pip install numpy\n",
    "!{sys.executable} -m pip install -i https://pypi.anaconda.org/albertputinjobs/simple pytube3"
   ]
  },
  {
   "cell_type": "code",
   "execution_count": 20,
   "metadata": {
    "ExecuteTime": {
     "end_time": "2021-02-12T03:36:00.936482Z",
     "start_time": "2021-02-12T03:36:00.902573Z"
    }
   },
   "outputs": [],
   "source": [
    "from pytube import YouTube"
   ]
  },
  {
   "cell_type": "code",
   "execution_count": 23,
   "metadata": {
    "ExecuteTime": {
     "end_time": "2021-02-12T03:40:36.718412Z",
     "start_time": "2021-02-12T03:40:36.703425Z"
    }
   },
   "outputs": [],
   "source": [
    "video_link = \"https://www.youtube.com/watch?v=WgZIv5HI44o&t=2s\"\n",
    "video_link=\"https://youtu.be/WgZIv5HI44o\""
   ]
  },
  {
   "cell_type": "code",
   "execution_count": 25,
   "metadata": {
    "ExecuteTime": {
     "end_time": "2021-02-12T03:43:52.550688Z",
     "start_time": "2021-02-12T03:43:52.534731Z"
    }
   },
   "outputs": [],
   "source": [
    "# yt=YouTube(video_link)"
   ]
  },
  {
   "cell_type": "markdown",
   "metadata": {},
   "source": [
    "```\n",
    "---------------------------------------------------------------------------\n",
    "RegexMatchError                           Traceback (most recent call last)\n",
    "<ipython-input-24-62c20794b0aa> in <module>\n",
    "----> 1 yt=YouTube(video_link)\n",
    "\n",
    "C:\\ProgramData\\Anaconda3\\lib\\site-packages\\pytube\\__main__.py in __init__(self, url, defer_prefetch_init, on_progress_callback, on_complete_callback, proxies)\n",
    "     89 \n",
    "     90         if not defer_prefetch_init:\n",
    "---> 91             self.prefetch()\n",
    "     92             self.descramble()\n",
    "     93 \n",
    "\n",
    "C:\\ProgramData\\Anaconda3\\lib\\site-packages\\pytube\\__main__.py in prefetch(self)\n",
    "    181         self.vid_info_raw = request.get(self.vid_info_url)\n",
    "    182         if not self.age_restricted:\n",
    "--> 183             self.js_url = extract.js_url(self.watch_html)\n",
    "    184             self.js = request.get(self.js_url)\n",
    "    185 \n",
    "\n",
    "C:\\ProgramData\\Anaconda3\\lib\\site-packages\\pytube\\extract.py in js_url(html)\n",
    "    141         The html contents of the watch page.\n",
    "    142     \"\"\"\n",
    "--> 143     base_js = get_ytplayer_config(html)[\"assets\"][\"js\"]\n",
    "    144     return \"https://youtube.com\" + base_js\n",
    "    145 \n",
    "\n",
    "C:\\ProgramData\\Anaconda3\\lib\\site-packages\\pytube\\extract.py in get_ytplayer_config(html)\n",
    "    200             return json.loads(yt_player_config)\n",
    "    201 \n",
    "--> 202     raise RegexMatchError(caller=\"get_ytplayer_config\", pattern=\"config_patterns\")\n",
    "    203 \n",
    "    204 \n",
    "\n",
    "RegexMatchError: get_ytplayer_config: could not find match for config_patterns\n",
    "```"
   ]
  },
  {
   "cell_type": "code",
   "execution_count": 29,
   "metadata": {
    "ExecuteTime": {
     "end_time": "2021-02-12T03:47:08.482995Z",
     "start_time": "2021-02-12T03:47:02.159255Z"
    }
   },
   "outputs": [
    {
     "name": "stdout",
     "output_type": "stream",
     "text": [
      "Collecting git+https://github.com/pytube/pytube\n",
      "  Cloning https://github.com/pytube/pytube to c:\\users\\drnesr\\appdata\\local\\temp\\pip-req-build-lyse83_n\n",
      "Requirement already satisfied: typing_extensions in c:\\programdata\\anaconda3\\lib\\site-packages (from pytube==10.5.0) (3.7.4.2)\n",
      "Building wheels for collected packages: pytube\n",
      "  Building wheel for pytube (setup.py): started\n",
      "  Building wheel for pytube (setup.py): finished with status 'done'\n",
      "  Created wheel for pytube: filename=pytube-10.5.0-py3-none-any.whl size=40073 sha256=983a7306dbe24f5146a58e39127872b7e5535be65f3a454bee6501252672085d\n",
      "  Stored in directory: C:\\Users\\DrNesr\\AppData\\Local\\Temp\\pip-ephem-wheel-cache-czksjofb\\wheels\\a8\\ac\\8c\\337af6a10cc543c5eadf4eb2bbd02bd8609b25bea729df338a\n",
      "Successfully built pytube\n",
      "Installing collected packages: pytube\n",
      "  Attempting uninstall: pytube\n",
      "    Found existing installation: pytube 10.4.1\n",
      "    Uninstalling pytube-10.4.1:\n",
      "      Successfully uninstalled pytube-10.4.1\n",
      "Successfully installed pytube-10.5.0\n"
     ]
    },
    {
     "name": "stderr",
     "output_type": "stream",
     "text": [
      "  Running command git clone -q https://github.com/pytube/pytube 'C:\\Users\\DrNesr\\AppData\\Local\\Temp\\pip-req-build-lyse83_n'\n"
     ]
    }
   ],
   "source": [
    "# Installing the new version\n",
    "# !{sys.executable} -m pip install pytube\n",
    "!{sys.executable} -m pip install git+https://github.com/pytube/pytube"
   ]
  },
  {
   "cell_type": "code",
   "execution_count": 30,
   "metadata": {
    "ExecuteTime": {
     "end_time": "2021-02-12T03:47:24.633096Z",
     "start_time": "2021-02-12T03:47:24.623123Z"
    }
   },
   "outputs": [],
   "source": [
    "from pytube import YouTube"
   ]
  },
  {
   "cell_type": "code",
   "execution_count": 32,
   "metadata": {
    "ExecuteTime": {
     "end_time": "2021-02-12T03:49:00.821879Z",
     "start_time": "2021-02-12T03:48:59.871950Z"
    }
   },
   "outputs": [
    {
     "ename": "RegexMatchError",
     "evalue": "get_ytplayer_config: could not find match for config_patterns",
     "output_type": "error",
     "traceback": [
      "\u001b[1;31m---------------------------------------------------------------------------\u001b[0m",
      "\u001b[1;31mRegexMatchError\u001b[0m                           Traceback (most recent call last)",
      "\u001b[1;32m<ipython-input-32-5f023877877b>\u001b[0m in \u001b[0;36m<module>\u001b[1;34m\u001b[0m\n\u001b[0;32m      1\u001b[0m \u001b[0mvideo_link\u001b[0m\u001b[1;33m=\u001b[0m\u001b[1;34m\"https://www.youtube.com/watch?v=XXJGdXGKO2I\"\u001b[0m\u001b[1;33m\u001b[0m\u001b[1;33m\u001b[0m\u001b[0m\n\u001b[1;32m----> 2\u001b[1;33m \u001b[0myt\u001b[0m\u001b[1;33m=\u001b[0m\u001b[0mYouTube\u001b[0m\u001b[1;33m(\u001b[0m\u001b[0mvideo_link\u001b[0m\u001b[1;33m)\u001b[0m\u001b[1;33m\u001b[0m\u001b[1;33m\u001b[0m\u001b[0m\n\u001b[0m",
      "\u001b[1;32mC:\\ProgramData\\Anaconda3\\lib\\site-packages\\pytube\\__main__.py\u001b[0m in \u001b[0;36m__init__\u001b[1;34m(self, url, defer_prefetch_init, on_progress_callback, on_complete_callback, proxies)\u001b[0m\n\u001b[0;32m     89\u001b[0m         \u001b[1;31m# video_id part of /watch?v=<video_id>\u001b[0m\u001b[1;33m\u001b[0m\u001b[1;33m\u001b[0m\u001b[1;33m\u001b[0m\u001b[0m\n\u001b[0;32m     90\u001b[0m         \u001b[0mself\u001b[0m\u001b[1;33m.\u001b[0m\u001b[0mvideo_id\u001b[0m \u001b[1;33m=\u001b[0m \u001b[0mextract\u001b[0m\u001b[1;33m.\u001b[0m\u001b[0mvideo_id\u001b[0m\u001b[1;33m(\u001b[0m\u001b[0murl\u001b[0m\u001b[1;33m)\u001b[0m\u001b[1;33m\u001b[0m\u001b[1;33m\u001b[0m\u001b[0m\n\u001b[1;32m---> 91\u001b[1;33m \u001b[1;33m\u001b[0m\u001b[0m\n\u001b[0m\u001b[0;32m     92\u001b[0m         \u001b[0mself\u001b[0m\u001b[1;33m.\u001b[0m\u001b[0mwatch_url\u001b[0m \u001b[1;33m=\u001b[0m \u001b[1;34mf\"https://youtube.com/watch?v={self.video_id}\"\u001b[0m\u001b[1;33m\u001b[0m\u001b[1;33m\u001b[0m\u001b[0m\n\u001b[0;32m     93\u001b[0m         \u001b[0mself\u001b[0m\u001b[1;33m.\u001b[0m\u001b[0membed_url\u001b[0m \u001b[1;33m=\u001b[0m \u001b[1;34mf\"https://www.youtube.com/embed/{self.video_id}\"\u001b[0m\u001b[1;33m\u001b[0m\u001b[1;33m\u001b[0m\u001b[0m\n",
      "\u001b[1;32mC:\\ProgramData\\Anaconda3\\lib\\site-packages\\pytube\\__main__.py\u001b[0m in \u001b[0;36mprefetch\u001b[1;34m(self)\u001b[0m\n\u001b[0;32m    181\u001b[0m \u001b[1;33m\u001b[0m\u001b[0m\n\u001b[0;32m    182\u001b[0m         \u001b[1;31m# load the player_response object (contains subtitle information)\u001b[0m\u001b[1;33m\u001b[0m\u001b[1;33m\u001b[0m\u001b[1;33m\u001b[0m\u001b[0m\n\u001b[1;32m--> 183\u001b[1;33m         \u001b[1;32mif\u001b[0m \u001b[0misinstance\u001b[0m\u001b[1;33m(\u001b[0m\u001b[0mself\u001b[0m\u001b[1;33m.\u001b[0m\u001b[0mplayer_config_args\u001b[0m\u001b[1;33m[\u001b[0m\u001b[1;34m\"player_response\"\u001b[0m\u001b[1;33m]\u001b[0m\u001b[1;33m,\u001b[0m \u001b[0mstr\u001b[0m\u001b[1;33m)\u001b[0m\u001b[1;33m:\u001b[0m\u001b[1;33m\u001b[0m\u001b[1;33m\u001b[0m\u001b[0m\n\u001b[0m\u001b[0;32m    184\u001b[0m             self.player_response = json.loads(\n\u001b[0;32m    185\u001b[0m                 \u001b[0mself\u001b[0m\u001b[1;33m.\u001b[0m\u001b[0mplayer_config_args\u001b[0m\u001b[1;33m[\u001b[0m\u001b[1;34m\"player_response\"\u001b[0m\u001b[1;33m]\u001b[0m\u001b[1;33m\u001b[0m\u001b[1;33m\u001b[0m\u001b[0m\n",
      "\u001b[1;32mC:\\ProgramData\\Anaconda3\\lib\\site-packages\\pytube\\extract.py\u001b[0m in \u001b[0;36mjs_url\u001b[1;34m(html)\u001b[0m\n\u001b[0;32m    141\u001b[0m     \u001b[1;33m:\u001b[0m\u001b[0mrtype\u001b[0m\u001b[1;33m:\u001b[0m \u001b[0mbool\u001b[0m\u001b[1;33m\u001b[0m\u001b[1;33m\u001b[0m\u001b[0m\n\u001b[0;32m    142\u001b[0m     \u001b[1;33m:\u001b[0m\u001b[0mreturns\u001b[0m\u001b[1;33m:\u001b[0m\u001b[1;33m\u001b[0m\u001b[1;33m\u001b[0m\u001b[0m\n\u001b[1;32m--> 143\u001b[1;33m         \u001b[0mPlayability\u001b[0m \u001b[0mstatus\u001b[0m \u001b[1;32mand\u001b[0m \u001b[0mreason\u001b[0m \u001b[0mof\u001b[0m \u001b[0mthe\u001b[0m \u001b[0mvideo\u001b[0m\u001b[1;33m.\u001b[0m\u001b[1;33m\u001b[0m\u001b[1;33m\u001b[0m\u001b[0m\n\u001b[0m\u001b[0;32m    144\u001b[0m     \"\"\"\n\u001b[0;32m    145\u001b[0m     \u001b[0mplayer_response\u001b[0m \u001b[1;33m=\u001b[0m \u001b[0minitial_player_response\u001b[0m\u001b[1;33m(\u001b[0m\u001b[0mwatch_html\u001b[0m\u001b[1;33m)\u001b[0m\u001b[1;33m\u001b[0m\u001b[1;33m\u001b[0m\u001b[0m\n",
      "\u001b[1;32mC:\\ProgramData\\Anaconda3\\lib\\site-packages\\pytube\\extract.py\u001b[0m in \u001b[0;36mget_ytplayer_config\u001b[1;34m(html)\u001b[0m\n\u001b[0;32m    200\u001b[0m         \u001b[1;33m:\u001b[0m\u001b[0msamp\u001b[0m\u001b[1;33m:\u001b[0m\u001b[0;31m`\u001b[0m\u001b[0mhttps\u001b[0m\u001b[1;33m:\u001b[0m\u001b[1;33m//\u001b[0m\u001b[0myoutube\u001b[0m\u001b[1;33m.\u001b[0m\u001b[0mcom\u001b[0m\u001b[1;33m/\u001b[0m\u001b[0mget_video_info\u001b[0m\u001b[0;31m`\u001b[0m \u001b[1;32mwith\u001b[0m \u001b[0mnecessary\u001b[0m \u001b[0mGET\u001b[0m\u001b[1;33m\u001b[0m\u001b[1;33m\u001b[0m\u001b[0m\n\u001b[0;32m    201\u001b[0m         \u001b[0mparameters\u001b[0m\u001b[1;33m.\u001b[0m\u001b[1;33m\u001b[0m\u001b[1;33m\u001b[0m\u001b[0m\n\u001b[1;32m--> 202\u001b[1;33m     \"\"\"\n\u001b[0m\u001b[0;32m    203\u001b[0m     params = OrderedDict(\n\u001b[0;32m    204\u001b[0m         [\n",
      "\u001b[1;31mRegexMatchError\u001b[0m: get_ytplayer_config: could not find match for config_patterns"
     ]
    }
   ],
   "source": [
    "video_link=\"https://www.youtube.com/watch?v=XXJGdXGKO2I\"\n",
    "yt=YouTube(video_link)"
   ]
  },
  {
   "cell_type": "markdown",
   "metadata": {},
   "source": [
    "## Finxter"
   ]
  },
  {
   "cell_type": "code",
   "execution_count": 33,
   "metadata": {
    "ExecuteTime": {
     "end_time": "2021-02-13T00:36:29.152106Z",
     "start_time": "2021-02-13T00:36:29.143131Z"
    }
   },
   "outputs": [
    {
     "data": {
      "text/plain": [
       "([0, 1, 4, 9, 16, 25, 36, 49, 64, 81], [0, 1, 4, 9, 16, 25, 36, 49, 64, 81])"
      ]
     },
     "execution_count": 33,
     "metadata": {},
     "output_type": "execute_result"
    }
   ],
   "source": [
    "xs=list(range(10))\n",
    "l1=list(map(lambda x:x*x, xs))\n",
    "l2 = [x*x for x in xs]\n",
    "l1, l1"
   ]
  },
  {
   "cell_type": "code",
   "execution_count": 34,
   "metadata": {
    "ExecuteTime": {
     "end_time": "2021-02-13T00:40:45.912917Z",
     "start_time": "2021-02-13T00:40:45.897957Z"
    }
   },
   "outputs": [
    {
     "name": "stdout",
     "output_type": "stream",
     "text": [
      "8\n"
     ]
    }
   ],
   "source": [
    "import re\n",
    "\n",
    "website = '''\n",
    "<!doctype html>\n",
    "<html>\n",
    "  <head>\n",
    "    <meta charset=\"utf-8\">\n",
    "  </head>\n",
    "  <body>\n",
    "    hello world\n",
    "  </body>\n",
    "</html>\n",
    "'''\n",
    "\n",
    "print(len(re.findall('<.+>', website)))"
   ]
  },
  {
   "cell_type": "code",
   "execution_count": 35,
   "metadata": {
    "ExecuteTime": {
     "end_time": "2021-02-13T00:48:04.201092Z",
     "start_time": "2021-02-13T00:48:04.182115Z"
    }
   },
   "outputs": [
    {
     "name": "stdout",
     "output_type": "stream",
     "text": [
      "0\n",
      "-1\n",
      "23\n"
     ]
    }
   ],
   "source": [
    "s1 = \"Ronaldo is better than Messi\"\n",
    "\n",
    "print(s1.find(\"Ronaldo\"))\n",
    "print(s1.find(\"Football\"))\n",
    "print(s1.find(\"Messi\"))"
   ]
  },
  {
   "cell_type": "code",
   "execution_count": 36,
   "metadata": {
    "ExecuteTime": {
     "end_time": "2021-02-13T00:51:32.250364Z",
     "start_time": "2021-02-13T00:51:32.234411Z"
    }
   },
   "outputs": [
    {
     "name": "stdout",
     "output_type": "stream",
     "text": [
      "4.0\n",
      "0.0\n",
      "16.0\n"
     ]
    }
   ],
   "source": [
    "import numpy as np\n",
    "\n",
    "x = np.array([[1, 5],\n",
    "              [1, 1],\n",
    "              [0, 8]])\n",
    "\n",
    "y = np.var(x, axis=1)\n",
    "print(y[0])\n",
    "print(y[1])\n",
    "print(y[2])"
   ]
  },
  {
   "cell_type": "code",
   "execution_count": 37,
   "metadata": {
    "ExecuteTime": {
     "end_time": "2021-02-13T00:52:36.940546Z",
     "start_time": "2021-02-13T00:52:36.928551Z"
    }
   },
   "outputs": [
    {
     "data": {
      "text/plain": [
       "4.0"
      ]
     },
     "execution_count": 37,
     "metadata": {},
     "output_type": "execute_result"
    }
   ],
   "source": [
    "np.var([1,5])"
   ]
  },
  {
   "cell_type": "code",
   "execution_count": 38,
   "metadata": {
    "ExecuteTime": {
     "end_time": "2021-02-13T00:54:39.757329Z",
     "start_time": "2021-02-13T00:54:39.743366Z"
    }
   },
   "outputs": [
    {
     "name": "stdout",
     "output_type": "stream",
     "text": [
      "(1, 1, False)\n"
     ]
    }
   ],
   "source": [
    "my_tuple = 1, 1, 1 == (1, 1, 1)\n",
    "\n",
    "print(my_tuple)"
   ]
  },
  {
   "cell_type": "code",
   "execution_count": 39,
   "metadata": {
    "ExecuteTime": {
     "end_time": "2021-02-13T00:56:05.925565Z",
     "start_time": "2021-02-13T00:56:05.917587Z"
    }
   },
   "outputs": [
    {
     "data": {
      "text/plain": [
       "array([0, 1, 1, 0, 3, 5, 0])"
      ]
     },
     "execution_count": 39,
     "metadata": {},
     "output_type": "execute_result"
    }
   ],
   "source": [
    "F = np.array([0, 1, 1, 2, 3, 5, 8])\n",
    "F[::3] = 0\n",
    "F"
   ]
  },
  {
   "cell_type": "code",
   "execution_count": 40,
   "metadata": {
    "ExecuteTime": {
     "end_time": "2021-02-13T00:58:45.753795Z",
     "start_time": "2021-02-13T00:58:45.738809Z"
    }
   },
   "outputs": [
    {
     "name": "stdout",
     "output_type": "stream",
     "text": [
      "True\n"
     ]
    }
   ],
   "source": [
    "import re\n",
    "\n",
    "text = 'Speedy Gonzalez'\n",
    "matches = re.findall('.', text)\n",
    "result = len(matches) == len(text)\n",
    "\n",
    "print(result)"
   ]
  },
  {
   "cell_type": "code",
   "execution_count": 41,
   "metadata": {
    "ExecuteTime": {
     "end_time": "2021-02-13T01:00:18.202258Z",
     "start_time": "2021-02-13T01:00:18.192257Z"
    }
   },
   "outputs": [
    {
     "name": "stdout",
     "output_type": "stream",
     "text": [
      "ies\n"
     ]
    }
   ],
   "source": [
    "x = 'universe'\n",
    "print(x[2::2])"
   ]
  },
  {
   "cell_type": "code",
   "execution_count": 42,
   "metadata": {
    "ExecuteTime": {
     "end_time": "2021-02-13T01:04:47.551140Z",
     "start_time": "2021-02-13T01:04:47.546153Z"
    }
   },
   "outputs": [
    {
     "name": "stdout",
     "output_type": "stream",
     "text": [
      "I'm happy.\n",
      "I want to dance.\n",
      "I love ice cream.\n"
     ]
    }
   ],
   "source": [
    "import re\n",
    "\n",
    "text = '''I'm not happy.\n",
    "I don't want to dance.\n",
    "I don't love ice cream.'''\n",
    "\n",
    "pattern = \"not |don't \"\n",
    "print(re.sub(pattern, '', text))"
   ]
  },
  {
   "cell_type": "code",
   "execution_count": 43,
   "metadata": {
    "ExecuteTime": {
     "end_time": "2021-02-13T01:09:33.499990Z",
     "start_time": "2021-02-13T01:09:33.492012Z"
    }
   },
   "outputs": [
    {
     "name": "stdout",
     "output_type": "stream",
     "text": [
      "Mon\n",
      "Sat\n"
     ]
    }
   ],
   "source": [
    "days = \"MonTueWedThuFriSatSun\"\n",
    "\n",
    "# conversion\n",
    "getDay = lambda i: days[(i-1)*3:i*3]\n",
    "\n",
    "print(getDay(1))\n",
    "print(getDay(6))"
   ]
  },
  {
   "cell_type": "code",
   "execution_count": 44,
   "metadata": {
    "ExecuteTime": {
     "end_time": "2021-02-13T01:12:45.564397Z",
     "start_time": "2021-02-13T01:12:45.553426Z"
    }
   },
   "outputs": [
    {
     "name": "stdout",
     "output_type": "stream",
     "text": [
      "man\n"
     ]
    }
   ],
   "source": [
    "import re\n",
    "\n",
    "regex = \"e.\"\n",
    "string = \"Spiderman\"\n",
    "result = re.split(regex, string)\n",
    "\n",
    "print(result[1])"
   ]
  },
  {
   "cell_type": "code",
   "execution_count": 45,
   "metadata": {
    "ExecuteTime": {
     "end_time": "2021-02-13T01:14:18.080936Z",
     "start_time": "2021-02-13T01:14:18.062956Z"
    }
   },
   "outputs": [
    {
     "data": {
      "text/plain": [
       "'namredipS'"
      ]
     },
     "execution_count": 45,
     "metadata": {},
     "output_type": "execute_result"
    }
   ],
   "source": [
    "string[::-1]"
   ]
  },
  {
   "cell_type": "code",
   "execution_count": 46,
   "metadata": {
    "ExecuteTime": {
     "end_time": "2021-02-13T01:14:55.930889Z",
     "start_time": "2021-02-13T01:14:55.922888Z"
    }
   },
   "outputs": [
    {
     "data": {
      "text/plain": [
       "'Spiderman'"
      ]
     },
     "execution_count": 46,
     "metadata": {},
     "output_type": "execute_result"
    }
   ],
   "source": [
    "''.join(reversed(string[::-1]))"
   ]
  },
  {
   "cell_type": "code",
   "execution_count": 49,
   "metadata": {
    "ExecuteTime": {
     "end_time": "2021-02-13T01:41:54.077041Z",
     "start_time": "2021-02-13T01:41:54.069061Z"
    }
   },
   "outputs": [
    {
     "name": "stdout",
     "output_type": "stream",
     "text": [
      "2\n",
      "3\n",
      "5\n",
      "7\n",
      "11\n"
     ]
    }
   ],
   "source": [
    "# Find prime numbers\n",
    "for n in range(2, 12):\n",
    "    for x in range(2, n):\n",
    "        if n % x == 0:\n",
    "            break\n",
    "    else:\n",
    "        # loop fell through\n",
    "        # w/o finding factor\n",
    "        print(n)"
   ]
  },
  {
   "cell_type": "code",
   "execution_count": 50,
   "metadata": {
    "ExecuteTime": {
     "end_time": "2021-02-13T01:41:57.799058Z",
     "start_time": "2021-02-13T01:41:57.787090Z"
    }
   },
   "outputs": [
    {
     "name": "stdout",
     "output_type": "stream",
     "text": [
      "[1, 2, 3, 5]\n"
     ]
    }
   ],
   "source": [
    "def cumsum(l:list):\n",
    "    sums = []\n",
    "    sums.append(l[0])\n",
    "    return helper(sums, l[1:])\n",
    "   \n",
    "    \n",
    "def helper(sums:list, xs:list):\n",
    "    s = sums[len(sums) - 1]\n",
    "    sums.append(s + xs[0])  \n",
    "    if len(xs) > 1:\n",
    "        return helper(sums, xs[1:])\n",
    "    return sums\n",
    " \n",
    "  \n",
    "xs = [1, 1, 1, 2]\n",
    "print(cumsum(xs))"
   ]
  },
  {
   "cell_type": "code",
   "execution_count": 51,
   "metadata": {
    "ExecuteTime": {
     "end_time": "2021-02-13T01:45:08.296145Z",
     "start_time": "2021-02-13T01:45:08.282181Z"
    }
   },
   "outputs": [
    {
     "name": "stdout",
     "output_type": "stream",
     "text": [
      "[1, 2, 3, 5]\n"
     ]
    }
   ],
   "source": [
    "def nesr_cumsum(l:list)->list:\n",
    "    sums= [l[0]]\n",
    "    for x in l[1:]:\n",
    "        sums.append(x+sums[-1])\n",
    "    return sums\n",
    "xs = [1, 1, 1, 2]\n",
    "print(nesr_cumsum(xs))        "
   ]
  },
  {
   "cell_type": "code",
   "execution_count": 56,
   "metadata": {
    "ExecuteTime": {
     "end_time": "2021-02-13T01:48:02.642851Z",
     "start_time": "2021-02-13T01:48:02.629861Z"
    }
   },
   "outputs": [
    {
     "data": {
      "text/plain": [
       "(5, 2, 5, 2)"
      ]
     },
     "execution_count": 56,
     "metadata": {},
     "output_type": "execute_result"
    }
   ],
   "source": [
    "5+False, 2-False, 5 or False, 5 and True and 2"
   ]
  },
  {
   "cell_type": "code",
   "execution_count": 57,
   "metadata": {
    "ExecuteTime": {
     "end_time": "2021-02-13T01:48:22.702390Z",
     "start_time": "2021-02-13T01:48:22.686409Z"
    }
   },
   "outputs": [
    {
     "data": {
      "text/plain": [
       "2"
      ]
     },
     "execution_count": 57,
     "metadata": {},
     "output_type": "execute_result"
    }
   ],
   "source": [
    "5 and True and 2"
   ]
  },
  {
   "cell_type": "code",
   "execution_count": 58,
   "metadata": {
    "ExecuteTime": {
     "end_time": "2021-02-13T01:51:02.841129Z",
     "start_time": "2021-02-13T01:51:02.829161Z"
    }
   },
   "outputs": [
    {
     "data": {
      "text/plain": [
       "False"
      ]
     },
     "execution_count": 58,
     "metadata": {},
     "output_type": "execute_result"
    }
   ],
   "source": [
    "not 2"
   ]
  },
  {
   "cell_type": "markdown",
   "metadata": {},
   "source": [
    "[Read this article](https://stackoverflow.com/questions/49658308/how-does-the-logical-and-operator-work-with-integers-in-python)"
   ]
  },
  {
   "cell_type": "code",
   "execution_count": 60,
   "metadata": {
    "ExecuteTime": {
     "end_time": "2021-02-13T01:52:33.872279Z",
     "start_time": "2021-02-13T01:52:33.854305Z"
    }
   },
   "outputs": [
    {
     "data": {
      "text/plain": [
       "(5, True)"
      ]
     },
     "execution_count": 60,
     "metadata": {},
     "output_type": "execute_result"
    }
   ],
   "source": [
    "True and 5, 5 and True"
   ]
  },
  {
   "cell_type": "code",
   "execution_count": 61,
   "metadata": {
    "ExecuteTime": {
     "end_time": "2021-02-13T01:52:59.373353Z",
     "start_time": "2021-02-13T01:52:59.356402Z"
    },
    "scrolled": true
   },
   "outputs": [
    {
     "data": {
      "text/plain": [
       "(False, False)"
      ]
     },
     "execution_count": 61,
     "metadata": {},
     "output_type": "execute_result"
    }
   ],
   "source": [
    "False and 5, 5 and False"
   ]
  },
  {
   "cell_type": "code",
   "execution_count": 62,
   "metadata": {
    "ExecuteTime": {
     "end_time": "2021-02-13T01:53:54.140580Z",
     "start_time": "2021-02-13T01:53:54.132600Z"
    }
   },
   "outputs": [
    {
     "data": {
      "text/plain": [
       "(True, 5)"
      ]
     },
     "execution_count": 62,
     "metadata": {},
     "output_type": "execute_result"
    }
   ],
   "source": [
    "True or 5, 5 or True"
   ]
  },
  {
   "cell_type": "code",
   "execution_count": 63,
   "metadata": {
    "ExecuteTime": {
     "end_time": "2021-02-13T01:54:30.910141Z",
     "start_time": "2021-02-13T01:54:30.900140Z"
    }
   },
   "outputs": [
    {
     "data": {
      "text/plain": [
       "(5, 5)"
      ]
     },
     "execution_count": 63,
     "metadata": {},
     "output_type": "execute_result"
    }
   ],
   "source": [
    "False or 5, 5 or False"
   ]
  },
  {
   "cell_type": "code",
   "execution_count": 65,
   "metadata": {
    "ExecuteTime": {
     "end_time": "2021-02-13T01:56:09.166172Z",
     "start_time": "2021-02-13T01:56:09.148193Z"
    }
   },
   "outputs": [
    {
     "name": "stdout",
     "output_type": "stream",
     "text": [
      "True False\n",
      "False\n"
     ]
    }
   ],
   "source": [
    "t1 = 5 + 2 == 7\n",
    "f1 = 2 - 1 > 3\n",
    "print(t1, f1)\n",
    "r = t1 or False\n",
    "r = r and True and f1\n",
    "\n",
    "print(r)"
   ]
  },
  {
   "cell_type": "code",
   "execution_count": 66,
   "metadata": {
    "ExecuteTime": {
     "end_time": "2021-02-13T01:57:16.253472Z",
     "start_time": "2021-02-13T01:57:16.236489Z"
    }
   },
   "outputs": [
    {
     "name": "stdout",
     "output_type": "stream",
     "text": [
      "['a']\n"
     ]
    }
   ],
   "source": [
    "letters = ['a', 'b', 'c',\n",
    "           'd', 'e', 'f', 'g']\n",
    "letters[1:] = []\n",
    "print(letters)"
   ]
  },
  {
   "cell_type": "code",
   "execution_count": 67,
   "metadata": {
    "ExecuteTime": {
     "end_time": "2021-02-13T02:02:38.588294Z",
     "start_time": "2021-02-13T02:02:38.557349Z"
    }
   },
   "outputs": [
    {
     "data": {
      "text/html": [
       "<div>\n",
       "<style scoped>\n",
       "    .dataframe tbody tr th:only-of-type {\n",
       "        vertical-align: middle;\n",
       "    }\n",
       "\n",
       "    .dataframe tbody tr th {\n",
       "        vertical-align: top;\n",
       "    }\n",
       "\n",
       "    .dataframe thead th {\n",
       "        text-align: right;\n",
       "    }\n",
       "</style>\n",
       "<table border=\"1\" class=\"dataframe\">\n",
       "  <thead>\n",
       "    <tr style=\"text-align: right;\">\n",
       "      <th></th>\n",
       "      <th>Country</th>\n",
       "      <th>Capital</th>\n",
       "      <th>Population</th>\n",
       "      <th>Area</th>\n",
       "    </tr>\n",
       "  </thead>\n",
       "  <tbody>\n",
       "    <tr>\n",
       "      <th>0</th>\n",
       "      <td>Germany</td>\n",
       "      <td>Berlin</td>\n",
       "      <td>83783942</td>\n",
       "      <td>357021</td>\n",
       "    </tr>\n",
       "    <tr>\n",
       "      <th>1</th>\n",
       "      <td>France</td>\n",
       "      <td>Paris</td>\n",
       "      <td>67081000</td>\n",
       "      <td>551695</td>\n",
       "    </tr>\n",
       "  </tbody>\n",
       "</table>\n",
       "</div>"
      ],
      "text/plain": [
       "   Country Capital  Population    Area\n",
       "0  Germany  Berlin    83783942  357021\n",
       "1   France   Paris    67081000  551695"
      ]
     },
     "execution_count": 67,
     "metadata": {},
     "output_type": "execute_result"
    }
   ],
   "source": [
    "import pandas as pd\n",
    "df = [[\"Germany\", \"Berlin\", 83783942, 357021],\n",
    "      [\"France\", \"Paris\", 67081000, 551695]]\n",
    "df = pd.DataFrame(data=df,\n",
    "                  columns=\"Country,Capital,Population,Area\".split(\",\"))\n",
    "df"
   ]
  },
  {
   "cell_type": "code",
   "execution_count": 69,
   "metadata": {
    "ExecuteTime": {
     "end_time": "2021-02-13T02:03:20.259192Z",
     "start_time": "2021-02-13T02:03:20.251214Z"
    }
   },
   "outputs": [
    {
     "data": {
      "text/plain": [
       "4"
      ]
     },
     "execution_count": 69,
     "metadata": {},
     "output_type": "execute_result"
    }
   ],
   "source": [
    "len(df.iloc[0])"
   ]
  },
  {
   "cell_type": "code",
   "execution_count": 70,
   "metadata": {
    "ExecuteTime": {
     "end_time": "2021-02-13T02:04:37.096462Z",
     "start_time": "2021-02-13T02:04:37.090479Z"
    }
   },
   "outputs": [
    {
     "name": "stdout",
     "output_type": "stream",
     "text": [
      "2\n"
     ]
    }
   ],
   "source": [
    "# Create list of strings\n",
    "customers = [\"Alice\", \"Bob\", \"Ann\", \"Alice\", \"Charles\"]\n",
    "\n",
    "# Count each customer in list and store in dictionary\n",
    "d = {k:customers.count(k) for k in customers}\n",
    "\n",
    "# Print everything\n",
    "print(d[\"Alice\"])"
   ]
  },
  {
   "cell_type": "code",
   "execution_count": 71,
   "metadata": {
    "ExecuteTime": {
     "end_time": "2021-02-13T02:06:57.821881Z",
     "start_time": "2021-02-13T02:06:57.810883Z"
    }
   },
   "outputs": [
    {
     "name": "stdout",
     "output_type": "stream",
     "text": [
      "False\n"
     ]
    }
   ],
   "source": [
    "python = ['cool']\n",
    "x = python in python\n",
    "\n",
    "print(x)"
   ]
  },
  {
   "cell_type": "code",
   "execution_count": 72,
   "metadata": {
    "ExecuteTime": {
     "end_time": "2021-02-13T02:07:31.064888Z",
     "start_time": "2021-02-13T02:07:31.057882Z"
    }
   },
   "outputs": [
    {
     "name": "stdout",
     "output_type": "stream",
     "text": [
      "[1, 2, 3, 4]\n"
     ]
    }
   ],
   "source": [
    "t = (3, 4, 2, 1)\n",
    "x = sorted(t)\n",
    "\n",
    "print(x)"
   ]
  },
  {
   "cell_type": "code",
   "execution_count": 73,
   "metadata": {
    "ExecuteTime": {
     "end_time": "2021-02-13T02:09:28.568589Z",
     "start_time": "2021-02-13T02:09:28.553601Z"
    }
   },
   "outputs": [
    {
     "name": "stdout",
     "output_type": "stream",
     "text": [
      "Obama\n"
     ]
    }
   ],
   "source": [
    "# (name, branch, million followers)\n",
    "l = [(\"Perry\", \"music\", 105),\n",
    "     (\"Bieber\", \"music\", 103),\n",
    "     (\"Obama\", \"politics\", 96),\n",
    "     (\"Swift\", \"music\", 85)]\n",
    "polit_stars = filter(lambda x: x[1] == \"politics\", l)\n",
    "print(list(polit_stars)[0][0])"
   ]
  },
  {
   "cell_type": "code",
   "execution_count": 74,
   "metadata": {
    "ExecuteTime": {
     "end_time": "2021-02-13T02:09:49.323270Z",
     "start_time": "2021-02-13T02:09:49.313297Z"
    }
   },
   "outputs": [
    {
     "data": {
      "text/plain": [
       "[]"
      ]
     },
     "execution_count": 74,
     "metadata": {},
     "output_type": "execute_result"
    }
   ],
   "source": [
    "list(polit_stars)"
   ]
  },
  {
   "cell_type": "code",
   "execution_count": 76,
   "metadata": {
    "ExecuteTime": {
     "end_time": "2021-02-13T02:10:16.999096Z",
     "start_time": "2021-02-13T02:10:16.986099Z"
    }
   },
   "outputs": [
    {
     "data": {
      "text/plain": [
       "[('Obama', 'politics', 96)]"
      ]
     },
     "execution_count": 76,
     "metadata": {},
     "output_type": "execute_result"
    }
   ],
   "source": [
    "list(filter(lambda x: x[1] == \"politics\", l))"
   ]
  },
  {
   "cell_type": "code",
   "execution_count": null,
   "metadata": {},
   "outputs": [],
   "source": []
  }
 ],
 "metadata": {
  "kernelspec": {
   "display_name": "Python 3",
   "language": "python",
   "name": "python3"
  },
  "language_info": {
   "codemirror_mode": {
    "name": "ipython",
    "version": 3
   },
   "file_extension": ".py",
   "mimetype": "text/x-python",
   "name": "python",
   "nbconvert_exporter": "python",
   "pygments_lexer": "ipython3",
   "version": "3.8.3"
  },
  "varInspector": {
   "cols": {
    "lenName": 16,
    "lenType": 16,
    "lenVar": 40
   },
   "kernels_config": {
    "python": {
     "delete_cmd_postfix": "",
     "delete_cmd_prefix": "del ",
     "library": "var_list.py",
     "varRefreshCmd": "print(var_dic_list())"
    },
    "r": {
     "delete_cmd_postfix": ") ",
     "delete_cmd_prefix": "rm(",
     "library": "var_list.r",
     "varRefreshCmd": "cat(var_dic_list()) "
    }
   },
   "types_to_exclude": [
    "module",
    "function",
    "builtin_function_or_method",
    "instance",
    "_Feature"
   ],
   "window_display": false
  }
 },
 "nbformat": 4,
 "nbformat_minor": 4
}
