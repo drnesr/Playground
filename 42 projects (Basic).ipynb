{
 "cells": [
  {
   "cell_type": "markdown",
   "metadata": {},
   "source": [
    "# [42 Exciting Python Project Ideas & Topics for Beginners in 2021](https://www.upgrad.com/blog/python-projects-ideas-topics-beginners/)\n",
    "\n",
    "***Rohit Sharma***"
   ]
  },
  {
   "cell_type": "markdown",
   "metadata": {
    "ExecuteTime": {
     "end_time": "2021-02-11T00:53:16.265404Z",
     "start_time": "2021-02-11T00:53:16.250445Z"
    }
   },
   "source": [
    "\n",
    "Python Project Ideas: Beginners Level\n",
    "1. Mad Libs Generator ✅\n",
    "2. Number Guessing ✅\n",
    "3. Text-based Adventure Game\n",
    "4. Dice Rolling Simulator\n",
    "5. Hangman\n",
    "6. Contact Book\n",
    "7. Email Slicer ✅\n",
    "8. Binary search algorithm\n",
    "9. Desktop Notifier App\n",
    "10. Python Story Generator ✅\n",
    "11. YouTube video downloader\n",
    "12. Python Website Blocker\n",
    "13. Spin a Yarn \n",
    "14. What’s the word?\n",
    "15. Rock, Paper, Scissors ✅\n",
    "16. Leap it!\n",
    "17. Find out, Fibonacci!"
   ]
  },
  {
   "cell_type": "code",
   "execution_count": null,
   "metadata": {},
   "outputs": [],
   "source": []
  }
 ],
 "metadata": {
  "kernelspec": {
   "display_name": "Python 3",
   "language": "python",
   "name": "python3"
  },
  "language_info": {
   "codemirror_mode": {
    "name": "ipython",
    "version": 3
   },
   "file_extension": ".py",
   "mimetype": "text/x-python",
   "name": "python",
   "nbconvert_exporter": "python",
   "pygments_lexer": "ipython3",
   "version": "3.8.3"
  },
  "varInspector": {
   "cols": {
    "lenName": 16,
    "lenType": 16,
    "lenVar": 40
   },
   "kernels_config": {
    "python": {
     "delete_cmd_postfix": "",
     "delete_cmd_prefix": "del ",
     "library": "var_list.py",
     "varRefreshCmd": "print(var_dic_list())"
    },
    "r": {
     "delete_cmd_postfix": ") ",
     "delete_cmd_prefix": "rm(",
     "library": "var_list.r",
     "varRefreshCmd": "cat(var_dic_list()) "
    }
   },
   "types_to_exclude": [
    "module",
    "function",
    "builtin_function_or_method",
    "instance",
    "_Feature"
   ],
   "window_display": false
  }
 },
 "nbformat": 4,
 "nbformat_minor": 4
}
